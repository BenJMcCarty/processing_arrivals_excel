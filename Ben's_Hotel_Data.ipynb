{
  "nbformat": 4,
  "nbformat_minor": 0,
  "metadata": {
    "colab": {
      "name": "Ben's Hotel Data.ipynb",
      "provenance": [],
      "collapsed_sections": [],
      "toc_visible": true,
      "include_colab_link": true
    },
    "kernelspec": {
      "name": "python3",
      "display_name": "Python 3"
    }
  },
  "cells": [
    {
      "cell_type": "markdown",
      "metadata": {
        "id": "view-in-github",
        "colab_type": "text"
      },
      "source": [
        "<a href=\"https://colab.research.google.com/github/BenJMcCarty/processing_arrivals_excel/blob/master/Ben's_Hotel_Data.ipynb\" target=\"_parent\"><img src=\"https://colab.research.google.com/assets/colab-badge.svg\" alt=\"Open In Colab\"/></a>"
      ]
    },
    {
      "cell_type": "markdown",
      "metadata": {
        "id": "nwFeGkqh4vKo",
        "colab_type": "text"
      },
      "source": [
        "# Arrivals Excel Code Filter"
      ]
    },
    {
      "cell_type": "markdown",
      "metadata": {
        "id": "lG_52zuk4HY6",
        "colab_type": "text"
      },
      "source": [
        "- Sheraton Delaney Valley\n",
        "- 03/24/20\n",
        "- James M. Irving, Ph.D.\n",
        "    - [Email Me](mailto:james.irving.phd@gmail.com)\n",
        "    - [Meet with Me](https://go.oncehub.com/JamesIrvingExtendedHours)\n"
      ]
    },
    {
      "cell_type": "markdown",
      "metadata": {
        "id": "ell3vVPI4wl7",
        "colab_type": "text"
      },
      "source": [
        "## README\n"
      ]
    },
    {
      "cell_type": "markdown",
      "metadata": {
        "id": "ATzX1O_D4yug",
        "colab_type": "text"
      },
      "source": [
        "> ***This notebook is intended to load in an arrivals report from ____ (ask Ben) and return a filtered list containing only room numbers who contain the following service codes attached to their reservation.***\n",
        "    \n",
        "- **How to use this notebook.:**\n",
        "    0. Upload files to analyze to google drive.\n",
        "    1. Mount google drive and log into google drive.\n",
        "    2. Change the `FOLDER` and `EXCEL_FILE` parmaters in the first cell below to match your current files.\n",
        "        - Tip: Use the sidebar File viewer (Folder icon on left of screen) to browse files. (Note: Google Drive will be located in `/gdrive/My Drive/`\n",
        "    \n",
        "    3. **On Menu bar, click `Runtime` > `Run all`**\n",
        "    4. Scroll down to [\"You May Edit Below This Header\"](#YOU-MAY-EDIT-BELOW-THIS-HEADER)\n"
      ]
    },
    {
      "cell_type": "markdown",
      "metadata": {
        "id": "qNGp4RQOJlbV",
        "colab_type": "text"
      },
      "source": [
        "## EDIT `FOLDER` and `EXCEL_FILE` BELOW"
      ]
    },
    {
      "cell_type": "code",
      "metadata": {
        "id": "pKRiWwg43v7a",
        "colab_type": "code",
        "outputId": "d4b0e1c4-57cd-4047-87cc-9908f6a2fd3a",
        "colab": {
          "base_uri": "https://localhost:8080/",
          "height": 139
        }
      },
      "source": [
        "## EDIT THESE TO MATCH ACTUAL FOLDER/FILE PATHS\n",
        "FOLDER = 'drive/My Drive/Hotel Data/'\n",
        "EXCEL_FILE = 'AA - 5-7-19.xlsx'\n",
        "\n",
        "\n",
        "################### DO NOT EDIT BELOW THIS LINE ###################\n",
        "from google.colab import drive\n",
        "drive.mount('/content/drive',force_remount=True)\n",
        "\n",
        "import os\n",
        "files = os.listdir(FOLDER)\n",
        "\n",
        "if EXCEL_FILE in files == False:\n",
        "    print(f'[!] ERROR: Excel file {EXCEL_FILE} not found in {FOLDER}')\n",
        "else:\n",
        "    print(f'[i] SUCCESS: Excel file {EXCEL_FILE} found in {FOLDER}')"
      ],
      "execution_count": 1,
      "outputs": [
        {
          "output_type": "stream",
          "text": [
            "Go to this URL in a browser: https://accounts.google.com/o/oauth2/auth?client_id=947318989803-6bn6qk8qdgf4n4g3pfee6491hc0brc4i.apps.googleusercontent.com&redirect_uri=urn%3aietf%3awg%3aoauth%3a2.0%3aoob&response_type=code&scope=email%20https%3a%2f%2fwww.googleapis.com%2fauth%2fdocs.test%20https%3a%2f%2fwww.googleapis.com%2fauth%2fdrive%20https%3a%2f%2fwww.googleapis.com%2fauth%2fdrive.photos.readonly%20https%3a%2f%2fwww.googleapis.com%2fauth%2fpeopleapi.readonly\n",
            "\n",
            "Enter your authorization code:\n",
            "··········\n",
            "Mounted at /content/drive\n",
            "[i] SUCCESS: Excel file AA - 5-7-19.xlsx found in drive/My Drive/Hotel Data/\n"
          ],
          "name": "stdout"
        }
      ]
    },
    {
      "cell_type": "markdown",
      "metadata": {
        "id": "Rr6cYMsGHF-h",
        "colab_type": "text"
      },
      "source": [
        "# DO NOT EDIT BELOW THIS HEADER\n",
        "___"
      ]
    },
    {
      "cell_type": "code",
      "metadata": {
        "id": "vuXv7pPeO9pc",
        "colab_type": "code",
        "colab": {}
      },
      "source": [
        "try:\n",
        "    from fsds_100719.imports import *\n",
        "except:\n",
        "    !pip install -U fsds_100719\n",
        "    from fsds_100719.imports import *\n",
        "\n",
        "pd.set_option('display.max_rows',999)\n",
        "dp.clear_output()"
      ],
      "execution_count": 0,
      "outputs": []
    },
    {
      "cell_type": "code",
      "metadata": {
        "id": "2QTS8babPsCA",
        "colab_type": "code",
        "colab": {}
      },
      "source": [
        "def read_excel_file(filename,remove_header=True,\n",
        "                    sheet_name='Report', skiprows=4):\n",
        "    \"\"\"Reads in an arrivals xlsx file, fill in blank row room numbers, \n",
        "    remove unumbered rooms at the top of the file\n",
        "    \n",
        "    Args:\n",
        "        filname(str): full folder path and filename of xlsx to load.\n",
        "        remove_header (bool): Drop rooms with missing room #s at top of sheet(Default is True)\n",
        "        sheet_name (str): Name of xlsx sheet to load\n",
        "        skiprows (int): Number of header rows to exclude from file (Default is 4)\n",
        "\n",
        "    Returns:\n",
        "        DataFrame: pandas DataFrame with \n",
        "        \"\"\"\n",
        "    ## Read in excel file, \n",
        "    df = pd.read_excel(filename,sheet_name=sheet_name, skiprows=skiprows)\n",
        "\n",
        "    ## Fill Null Values with Room # from Row Above\n",
        "    df['Number Type']=df['Number Type'].ffill()\n",
        "\n",
        "    \n",
        "    if remove_header:\n",
        "        ## Remove Remaining Null Values from beginnging rows\n",
        "        df = df[~df['Number Type'].isna()]#.head()\n",
        "\n",
        "    return df\n",
        "\n",
        "\n",
        "def process_data(df_raw,only_code_columns=False,\n",
        "                 renamer_kws={}):\n",
        "    \"\"\"Processes raw loaded df to check 2 columns for all \n",
        "    service codes and return a dataframe with all room.\n",
        "    Renames the columns as in renamer_dict: \n",
        "    renamer = {'Number Type':'Room Number', \n",
        "            'Unnamed: 14': 'Service Codes 1',\n",
        "            'Stat GT Guest Name':'Service Codes 2'} \"\"\"\n",
        "    df = df_raw.copy()\n",
        "\n",
        "    ## Rename columns of interest.\n",
        "    renamer = {'Number Type':'Room Number', \n",
        "               'Unnamed: 14': 'Service Codes 1',\n",
        "               'Stat GT Guest Name':'Service Codes 2'}\n",
        "    renamer.update(renamer_kws)\n",
        "    df = df.rename(mapper=renamer,axis=1)\n",
        "\n",
        "    ## Join together columns with service codes\n",
        "    code_cols = ['Service Codes 1','Service Codes 2']\n",
        "    df[code_cols] =  df[code_cols].fillna('').astype(str)\n",
        "    df['All Codes'] = df['Service Codes 1']+' '+ df['Service Codes 2']\n",
        "\n",
        "    ## Make Room Number into Integers\n",
        "    tf = df['Room Number'].str.isnumeric()\n",
        "\n",
        "    ## Cut off Footer Text Totals\n",
        "    df = df.loc[tf!=False] \n",
        "    \n",
        "    ## Covert Rooms to integers\n",
        "    df['Room Number'] =df['Room Number'].astype(int)\n",
        "   \n",
        "   ## Control if all or just code columns are returned\n",
        "    if only_code_columns:\n",
        "        \n",
        "        # Select only data of interest\n",
        "        df = df[['Room Number','All Codes']]\n",
        "    return df\n",
        "\n",
        "\n",
        "def combine_room_rows(df_):\n",
        "    \"\"\"Joins the overflow row of service codes to the new \"Combined Codes\" column.\"\"\"\n",
        "    df = df_.copy()\n",
        "\n",
        "    ## Get room number index\n",
        "    rooms = df.groupby('Room Number').groups\n",
        "\n",
        "    ## Save Series to list for pd.concat\n",
        "    clean_df = []\n",
        "\n",
        "    ## For each room, create one row with all combined codes\n",
        "    for rm_num, idx in rooms.items():\n",
        "        df_temp = df.loc[idx]\n",
        "\n",
        "        ## If no overflow second row:\n",
        "        if len(idx)==1:\n",
        "            df_temp['Combined Codes'] = df_temp['All Codes'].copy()\n",
        "\n",
        "        ## If second or more overflow row, combine codes\n",
        "        elif len(idx)>1:\n",
        "            df_temp['Combined Codes'] = ' '.join(df_temp.loc[idx,'All Codes'])\n",
        "\n",
        "        ## Add codes to clean_df\n",
        "\n",
        "\n",
        "        clean_df.append(df_temp)\n",
        "\n",
        "    ## Concatenate final df and slice out columns\n",
        "    final_df = pd.concat(clean_df)[['Room Number','Combined Codes']]\n",
        "\n",
        "    ## Drop any duplicated rooms\n",
        "    final_df.drop_duplicates(inplace=True)\n",
        "    \n",
        "    return final_df  \n"
      ],
      "execution_count": 0,
      "outputs": []
    },
    {
      "cell_type": "code",
      "metadata": {
        "id": "gyt5rQliQcTF",
        "colab_type": "code",
        "colab": {}
      },
      "source": [
        "def filter_codes(DF,codes_to_discard = ['PARK','CPAR','NP'],\n",
        "                 only_filtered_cols=True):\n",
        "    \"\"\"Filters out reservations containing codes and creates T/F columns for each tag\n",
        "    \"\"\"\n",
        "    ## FILTER OUT RESERVATIONS WITH CODES\n",
        "\n",
        "    ## Create TF Column for if combined codes contains it\n",
        "    for code in codes_to_discard:\n",
        "        DF[f'HAS {code}'] = DF['Combined Codes'].str.contains(code)\n",
        "\n",
        "    ## Get T/F for combined code columns\n",
        "    DF['DISCARD'] = DF[[col for col in DF.columns if \"HAS\" in col]].sum(axis=1) >0 \n",
        "\n",
        "    ## Set room numbers as axes\n",
        "    # DF.set_index('Room Number',inplace=True)\n",
        "    DF.sort_values(by='Room Number',inplace=True)\n",
        "\n",
        "    ## Keep only columns without tags \n",
        "    if only_filtered_cols:\n",
        "        DF = DF[DF['DISCARD']==False]\n",
        "    \n",
        "    return DF.reset_index()\n",
        "\n",
        "def complete_process(excel_file, folder = r'drive/My Drive/Hotel Data/',\n",
        "                    codes_to_discard = ['PARK','CPAR','NP'],only_filtered_cols=True,\n",
        "                    save_file=True,save_filename=None):\n",
        "    \"\"\"Performs full process using all of the functions above.\n",
        "    \n",
        "    Args:\n",
        "        excel_file(str): excel file name with .xlsx and NO folderpath\n",
        "        folder (str) : Folder containing excel file (Defaults to 'drive/My Drive/Data Sets/Hotel Data/')\n",
        "    \n",
        "    Returns:\n",
        "        DataFrame (str): Pandas DataFrame with list of room numbers without service codes of interest\n",
        "    \"\"\"\n",
        "    filename = folder+excel_file\n",
        "    print(f\"Loading {filename}\")\n",
        "    NEW_FILENAME = f\"{folder}{excel_file.split('.')[-2]}{'_CODES.xlsx'}\"\n",
        "\n",
        "    raw_df = read_excel_file(filename)\n",
        "    df = process_data(raw_df,False)\n",
        "    df_final = combine_room_rows(df)\n",
        "    df_final2 = filter_codes(df_final,codes_to_discard=codes_to_discard,\n",
        "                             only_filtered_cols=only_filtered_cols)\n",
        "    df_final2 = df_final2[['Room Number','DISCARD','HAS PARK', 'HAS CPAR', 'HAS NP', 'Combined Codes', ]]\n",
        "\n",
        "    ## Replace bad text in codes\n",
        "    replace_me = ['Schedule/Rate','Rate',':']\n",
        "    for repl in replace_me:\n",
        "        df_final2['Combined Codes']= df_final2['Combined Codes'].apply(lambda x: x.replace(repl,''))#.strip())\n",
        "    if save_filename is None:\n",
        "        df_final2.to_excel(NEW_FILENAME)\n",
        "\n",
        "    return df_final2"
      ],
      "execution_count": 0,
      "outputs": []
    },
    {
      "cell_type": "markdown",
      "metadata": {
        "id": "v-lPaYhEHNaV",
        "colab_type": "text"
      },
      "source": [
        "# YOU MAY EDIT BELOW THIS HEADER\n",
        "\n",
        "___"
      ]
    },
    {
      "cell_type": "code",
      "metadata": {
        "id": "iu81l-EKmad3",
        "colab_type": "code",
        "outputId": "2eb1de0e-7d61-4d9f-ea11-8396ca2a3625",
        "colab": {
          "base_uri": "https://localhost:8080/",
          "height": 221
        }
      },
      "source": [
        "## By Default, the function will save the file and will only return the columns of interest\n",
        "df1 = complete_process(EXCEL_FILE,save_file=False,folder=FOLDER)\n",
        "df1.head()"
      ],
      "execution_count": 8,
      "outputs": [
        {
          "output_type": "stream",
          "text": [
            "Loading drive/My Drive/Hotel Data/AA - 5-7-19.xlsx\n"
          ],
          "name": "stdout"
        },
        {
          "output_type": "execute_result",
          "data": {
            "text/html": [
              "<div>\n",
              "<style scoped>\n",
              "    .dataframe tbody tr th:only-of-type {\n",
              "        vertical-align: middle;\n",
              "    }\n",
              "\n",
              "    .dataframe tbody tr th {\n",
              "        vertical-align: top;\n",
              "    }\n",
              "\n",
              "    .dataframe thead th {\n",
              "        text-align: right;\n",
              "    }\n",
              "</style>\n",
              "<table border=\"1\" class=\"dataframe\">\n",
              "  <thead>\n",
              "    <tr style=\"text-align: right;\">\n",
              "      <th></th>\n",
              "      <th>Room Number</th>\n",
              "      <th>DISCARD</th>\n",
              "      <th>HAS PARK</th>\n",
              "      <th>HAS CPAR</th>\n",
              "      <th>HAS NP</th>\n",
              "      <th>Combined Codes</th>\n",
              "    </tr>\n",
              "  </thead>\n",
              "  <tbody>\n",
              "    <tr>\n",
              "      <th>0</th>\n",
              "      <td>306</td>\n",
              "      <td>False</td>\n",
              "      <td>False</td>\n",
              "      <td>False</td>\n",
              "      <td>False</td>\n",
              "      <td>I2 N4 P9 TK</td>\n",
              "    </tr>\n",
              "    <tr>\n",
              "      <th>1</th>\n",
              "      <td>308</td>\n",
              "      <td>False</td>\n",
              "      <td>False</td>\n",
              "      <td>False</td>\n",
              "      <td>False</td>\n",
              "      <td>TD</td>\n",
              "    </tr>\n",
              "    <tr>\n",
              "      <th>2</th>\n",
              "      <td>314</td>\n",
              "      <td>False</td>\n",
              "      <td>False</td>\n",
              "      <td>False</td>\n",
              "      <td>False</td>\n",
              "      <td>P9 TK</td>\n",
              "    </tr>\n",
              "    <tr>\n",
              "      <th>3</th>\n",
              "      <td>315</td>\n",
              "      <td>False</td>\n",
              "      <td>False</td>\n",
              "      <td>False</td>\n",
              "      <td>False</td>\n",
              "      <td>TK</td>\n",
              "    </tr>\n",
              "    <tr>\n",
              "      <th>4</th>\n",
              "      <td>319</td>\n",
              "      <td>False</td>\n",
              "      <td>False</td>\n",
              "      <td>False</td>\n",
              "      <td>False</td>\n",
              "      <td>E1 L3 TK</td>\n",
              "    </tr>\n",
              "  </tbody>\n",
              "</table>\n",
              "</div>"
            ],
            "text/plain": [
              "   Room Number  DISCARD  HAS PARK  HAS CPAR  HAS NP  Combined Codes\n",
              "0          306    False     False     False   False  I2 N4 P9 TK   \n",
              "1          308    False     False     False   False           TD   \n",
              "2          314    False     False     False   False        P9 TK   \n",
              "3          315    False     False     False   False           TK   \n",
              "4          319    False     False     False   False     E1 L3 TK   "
            ]
          },
          "metadata": {
            "tags": []
          },
          "execution_count": 8
        }
      ]
    },
    {
      "cell_type": "code",
      "metadata": {
        "id": "oBdIkm71CJ2q",
        "colab_type": "code",
        "outputId": "b0b93c5b-5883-424a-cb1f-cd76a2b24fa4",
        "colab": {
          "base_uri": "https://localhost:8080/",
          "height": 221
        }
      },
      "source": [
        "df = complete_process(EXCEL_FILE,save_file=True,only_filtered_cols=False)\n",
        "df.head() #.style.highlight_max(subset='DISCARD',color='green').hide_index()"
      ],
      "execution_count": 9,
      "outputs": [
        {
          "output_type": "stream",
          "text": [
            "Loading drive/My Drive/Hotel Data/AA - 5-7-19.xlsx\n"
          ],
          "name": "stdout"
        },
        {
          "output_type": "execute_result",
          "data": {
            "text/html": [
              "<div>\n",
              "<style scoped>\n",
              "    .dataframe tbody tr th:only-of-type {\n",
              "        vertical-align: middle;\n",
              "    }\n",
              "\n",
              "    .dataframe tbody tr th {\n",
              "        vertical-align: top;\n",
              "    }\n",
              "\n",
              "    .dataframe thead th {\n",
              "        text-align: right;\n",
              "    }\n",
              "</style>\n",
              "<table border=\"1\" class=\"dataframe\">\n",
              "  <thead>\n",
              "    <tr style=\"text-align: right;\">\n",
              "      <th></th>\n",
              "      <th>Room Number</th>\n",
              "      <th>DISCARD</th>\n",
              "      <th>HAS PARK</th>\n",
              "      <th>HAS CPAR</th>\n",
              "      <th>HAS NP</th>\n",
              "      <th>Combined Codes</th>\n",
              "    </tr>\n",
              "  </thead>\n",
              "  <tbody>\n",
              "    <tr>\n",
              "      <th>0</th>\n",
              "      <td>301</td>\n",
              "      <td>True</td>\n",
              "      <td>False</td>\n",
              "      <td>True</td>\n",
              "      <td>False</td>\n",
              "      <td>CPAR FB1 N3 TD  R4 K6 N4 I2</td>\n",
              "    </tr>\n",
              "    <tr>\n",
              "      <th>1</th>\n",
              "      <td>305</td>\n",
              "      <td>True</td>\n",
              "      <td>True</td>\n",
              "      <td>False</td>\n",
              "      <td>False</td>\n",
              "      <td>D4 PARK TD</td>\n",
              "    </tr>\n",
              "    <tr>\n",
              "      <th>2</th>\n",
              "      <td>306</td>\n",
              "      <td>False</td>\n",
              "      <td>False</td>\n",
              "      <td>False</td>\n",
              "      <td>False</td>\n",
              "      <td>I2 N4 P9 TK</td>\n",
              "    </tr>\n",
              "    <tr>\n",
              "      <th>3</th>\n",
              "      <td>308</td>\n",
              "      <td>False</td>\n",
              "      <td>False</td>\n",
              "      <td>False</td>\n",
              "      <td>False</td>\n",
              "      <td>TD</td>\n",
              "    </tr>\n",
              "    <tr>\n",
              "      <th>4</th>\n",
              "      <td>311</td>\n",
              "      <td>True</td>\n",
              "      <td>True</td>\n",
              "      <td>False</td>\n",
              "      <td>False</td>\n",
              "      <td>K1 PARK TK</td>\n",
              "    </tr>\n",
              "  </tbody>\n",
              "</table>\n",
              "</div>"
            ],
            "text/plain": [
              "   Room Number  DISCARD  ...  HAS NP                  Combined Codes\n",
              "0          301     True  ...   False  CPAR FB1 N3 TD  R4 K6 N4 I2   \n",
              "1          305     True  ...   False                   D4 PARK TD   \n",
              "2          306    False  ...   False                  I2 N4 P9 TK   \n",
              "3          308    False  ...   False                           TD   \n",
              "4          311     True  ...   False                   K1 PARK TK   \n",
              "\n",
              "[5 rows x 6 columns]"
            ]
          },
          "metadata": {
            "tags": []
          },
          "execution_count": 9
        }
      ]
    },
    {
      "cell_type": "code",
      "metadata": {
        "id": "t4r1baSul9Pq",
        "colab_type": "code",
        "colab": {}
      },
      "source": [
        ""
      ],
      "execution_count": 0,
      "outputs": []
    }
  ]
}